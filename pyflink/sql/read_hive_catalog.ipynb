{
 "cells": [
  {
   "cell_type": "code",
   "execution_count": null,
   "metadata": {
    "collapsed": true,
    "ExecuteTime": {
     "start_time": "2023-04-26T13:47:04.623540Z",
     "end_time": "2023-04-26T13:47:10.794982Z"
    }
   },
   "outputs": [],
   "source": [
    "import subprocess\n",
    "import os\n",
    "\n",
    "from pyflink.table import EnvironmentSettings, TableEnvironment\n",
    "from pyflink.table.catalog import HiveCatalog\n",
    "\n",
    "# setup env\n",
    "hadoop_home = \"/Users/frankma/dev/db/fedomn/spark-knowledge/hadoop/hadoop-3.3.4\"\n",
    "os.environ['HADOOP_HOME'] = hadoop_home\n",
    "classpath_cmd = f'{hadoop_home}/bin/hadoop classpath'\n",
    "hadoop_classpath = subprocess.check_output(classpath_cmd.split()).decode().strip()\n",
    "os.environ['HADOOP_CLASSPATH'] = hadoop_classpath\n",
    "\n",
    "env = EnvironmentSettings.in_streaming_mode()\n",
    "table_env = TableEnvironment.create(env)\n",
    "abspath = os.path.abspath('')  # pyflink/sql\n",
    "catalog = HiveCatalog(\"myhive\", \"mydatabase\", f\"{abspath}/../sql\")\n",
    "table_env.register_catalog(\"myhive\", catalog)\n",
    "table_env.use_catalog(\"myhive\")"
   ]
  },
  {
   "cell_type": "code",
   "execution_count": null,
   "outputs": [],
   "source": [
    "table_env.execute_sql(\"select * from mydatabase.offline_datawarehouse limit 10\").print()"
   ],
   "metadata": {
    "collapsed": false,
    "ExecuteTime": {
     "start_time": "2023-04-26T13:47:14.362538Z",
     "end_time": "2023-04-26T13:47:20.109038Z"
    }
   }
  },
  {
   "cell_type": "markdown",
   "source": [],
   "metadata": {
    "collapsed": false
   }
  }
 ],
 "metadata": {
  "kernelspec": {
   "display_name": "Python 3",
   "language": "python",
   "name": "python3"
  },
  "language_info": {
   "codemirror_mode": {
    "name": "ipython",
    "version": 2
   },
   "file_extension": ".py",
   "mimetype": "text/x-python",
   "name": "python",
   "nbconvert_exporter": "python",
   "pygments_lexer": "ipython2",
   "version": "2.7.6"
  }
 },
 "nbformat": 4,
 "nbformat_minor": 0
}
